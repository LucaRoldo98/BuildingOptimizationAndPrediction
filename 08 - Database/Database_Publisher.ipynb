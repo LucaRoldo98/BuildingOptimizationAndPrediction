{
 "cells": [
  {
   "cell_type": "markdown",
   "id": "d4ded300",
   "metadata": {},
   "source": [
    "**DATA PUBLISHER METHODS**\n",
    "\n",
    "\n",
    "This code retrieves data from the \"hourly_mean.csv\" file and publishes them on a common mqtt topic acting as a building gateway for some virtual sensors. "
   ]
  },
  {
   "cell_type": "code",
   "execution_count": null,
   "id": "562f9819",
   "metadata": {},
   "outputs": [],
   "source": [
    "import paho.mqtt.client as PahoMQTT\n",
    "import time\n",
    "import pandas as pd\n",
    "import json\n",
    "\n",
    "class MyPublisher:\n",
    "    def __init__(self, clientID):\n",
    "        self.clientID = clientID\n",
    "        # create an instance of paho.mqtt.client\n",
    "        self._paho_mqtt = PahoMQTT.Client(self.clientID, False) \n",
    "        # register the callback\n",
    "        self._paho_mqtt.on_connect = self.myOnConnect\n",
    "        self.messageBroker = 'test.mosquitto.org'\n",
    "\n",
    "    def start (self):\n",
    "        #manage connection to broker\n",
    "        self._paho_mqtt.connect(self.messageBroker, 1883)\n",
    "        self._paho_mqtt.loop_start()\n",
    "\n",
    "    def stop (self):\n",
    "        self._paho_mqtt.loop_stop()\n",
    "        self._paho_mqtt.disconnect()\n",
    "\n",
    "    def myPublish(self, topic, message):\n",
    "        print(\"published\")\n",
    "        # publish a message with a certain topic\n",
    "        self._paho_mqtt.publish(topic, message, 2)\n",
    "\n",
    "    def myOnConnect (self, paho_mqtt, userdata, flags, rc):\n",
    "        print (\"Connected to %s with result code: %d\" % (self.messageBroker, rc))\n",
    "\n",
    "\n",
    "\n"
   ]
  },
  {
   "cell_type": "markdown",
   "id": "dc90ee6b",
   "metadata": {},
   "source": []
  },
  {
   "cell_type": "code",
   "execution_count": null,
   "id": "4d51580f",
   "metadata": {},
   "outputs": [],
   "source": [
    "if __name__ == \"__main__\":\n",
    "    test = MyPublisher(\"MyPublisher\")\n",
    "    test.start()\n",
    "    df=pd.read_csv('hourly_mean.csv',sep=',',decimal='.',index_col=0)\n",
    "    GATEWAY_NAME=\"VirtualBuilding\"\n",
    "    for i in df.index:\n",
    "        for j in df.loc[i].items():\n",
    "            nodeID=j[0]\n",
    "            value=j[1]\n",
    "            if nodeID=='Power':\n",
    "                measurement=\"Power\"\n",
    "            else:\n",
    "                measurement=\"Temperature\"\n",
    "            payload={\n",
    "                        \"location\":str(GATEWAY_NAME),\n",
    "                        \"measurement\":measurement,\n",
    "                        \"node\":str(nodeID),\n",
    "                        \"time_stamp\":str(i),\n",
    "                        \"value\":value}\n",
    "            test.myPublish ('ict4bd', json.dumps(payload)) \t\n",
    "            time.sleep(0.1)\n",
    "\n",
    "    test.stop()"
   ]
  }
 ],
 "metadata": {
  "kernelspec": {
   "display_name": "Python 3 (ipykernel)",
   "language": "python",
   "name": "python3"
  },
  "language_info": {
   "codemirror_mode": {
    "name": "ipython",
    "version": 3
   },
   "file_extension": ".py",
   "mimetype": "text/x-python",
   "name": "python",
   "nbconvert_exporter": "python",
   "pygments_lexer": "ipython3",
   "version": "3.8.10"
  }
 },
 "nbformat": 4,
 "nbformat_minor": 5
}
